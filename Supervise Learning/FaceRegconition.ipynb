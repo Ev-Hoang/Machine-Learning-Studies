{
 "cells": [
  {
   "cell_type": "code",
   "execution_count": null,
   "id": "dffcc8ec",
   "metadata": {},
   "outputs": [
    {
     "name": "stdout",
     "output_type": "stream",
     "text": [
      "Applied providers: ['CPUExecutionProvider'], with options: {'CPUExecutionProvider': {}}\n",
      "find model: /root/.insightface/models/buffalo_l/1k3d68.onnx landmark_3d_68 ['None', 3, 192, 192] 0.0 1.0\n",
      "Applied providers: ['CPUExecutionProvider'], with options: {'CPUExecutionProvider': {}}\n",
      "find model: /root/.insightface/models/buffalo_l/2d106det.onnx landmark_2d_106 ['None', 3, 192, 192] 0.0 1.0\n",
      "Applied providers: ['CPUExecutionProvider'], with options: {'CPUExecutionProvider': {}}\n",
      "find model: /root/.insightface/models/buffalo_l/det_10g.onnx detection [1, 3, '?', '?'] 127.5 128.0\n",
      "Applied providers: ['CPUExecutionProvider'], with options: {'CPUExecutionProvider': {}}\n",
      "find model: /root/.insightface/models/buffalo_l/genderage.onnx genderage ['None', 3, 96, 96] 0.0 1.0\n",
      "Applied providers: ['CPUExecutionProvider'], with options: {'CPUExecutionProvider': {}}\n",
      "find model: /root/.insightface/models/buffalo_l/w600k_r50.onnx recognition ['None', 3, 112, 112] 127.5 127.5\n",
      "set det-size: (640, 640)\n",
      "✅ Số ảnh: 492, nhãn: {np.str_('Stephanie'), np.str_('Judy'), np.str_('Neri'), np.str_('Valery'), np.str_('Joan'), np.str_('Joshua'), np.str_('Laura'), np.str_('Screenshot 2025-07-23 151535'), np.str_('Stephen'), np.str_('Gavyn'), np.str_('Screenshot 2025-07-23 150534'), np.str_('Screenshot 2025-07-23 151353'), np.str_('Ahmet'), np.str_('Rocco'), np.str_('Screenshot 2025-07-23 151205'), np.str_('Jason'), np.str_('Massoud'), np.str_('Tatiana'), np.str_('Robert'), np.str_('John'), np.str_('Screenshot 2025-07-23 151358'), np.str_('Aaron'), np.str_('Screenshot 2025-07-23 151159'), np.str_('Screenshot 2025-07-23 151155'), np.str_('Screenshot 2025-07-23 151551'), np.str_('Sohail'), np.str_('Xavier'), np.str_('Screenshot 2025-07-23 151624'), np.str_('Screenshot 2025-07-23 150559'), np.str_('Martha'), np.str_('Juan'), np.str_('Lucio'), np.str_('Pamela'), np.str_('Valorie'), np.str_('Michelle'), np.str_('Screenshot 2025-07-23 151051'), np.str_('Lleyton'), np.str_('Screenshot 2025-07-23 150901'), np.str_('Corliss'), np.str_('Screenshot 2025-07-23 150707'), np.str_('Myung'), np.str_('Gary'), np.str_('Donna'), np.str_('Scott'), np.str_('Vassilis'), np.str_('Screenshot 2025-07-23 150854'), np.str_('Hideki'), np.str_('Screenshot 2025-07-23 150849'), np.str_('Emmanuel'), np.str_('Screenshot 2025-07-23 150832'), np.str_('Paul'), np.str_('Felix'), np.str_('Screenshot 2025-07-23 150842'), np.str_('Naomi'), np.str_('Dominic'), np.str_('Screenshot 2025-07-23 150519'), np.str_('Daryl'), np.str_('Flor'), np.str_('Anthony'), np.str_('Screenshot 2025-07-23 150655'), np.str_('Screenshot 2025-07-23 150622'), np.str_('Aitor'), np.str_('Kathleen'), np.str_('Crandall'), np.str_('Cheryl'), np.str_('Michael'), np.str_('Screenshot 2025-07-23 151233'), np.str_('Carla'), np.str_('Sergei'), np.str_('Amanda'), np.str_('Greg'), np.str_('Screenshot 2025-07-23 151711'), np.str_('Screenshot 2025-07-23 151614'), np.str_('Screenshot 2025-07-23 151445'), np.str_('Krishna'), np.str_('Screenshot 2025-07-23 150837'), np.str_('Eddy'), np.str_('Screenshot 2025-07-23 150758'), np.str_('Bo'), np.str_('Screenshot 2025-07-23 150937'), np.str_('Al'), np.str_('Screenshot 2025-07-23 150747'), np.str_('Hank'), np.str_('Teri'), np.str_('Ashraf'), np.str_('Stan'), np.str_('Screenshot 2025-07-23 151409'), np.str_('Roger'), np.str_('Jack'), np.str_('Chuck'), np.str_('Toni'), np.str_('Screenshot 2025-07-23 151620'), np.str_('Screenshot 2025-07-23 150930'), np.str_('Screenshot 2025-07-23 150508'), np.str_('Saeb'), np.str_('Screenshot 2025-07-23 151533'), np.str_('Rohman'), np.str_('Teddy'), np.str_('Dan'), np.str_('Brook'), np.str_('Thomas'), np.str_('Screenshot 2025-07-23 151549'), np.str_('Gene'), np.str_('Ron'), np.str_('Screenshot 2025-07-23 150636'), np.str_('Screenshot 2025-07-23 150522'), np.str_('Patty'), np.str_('Eduard'), np.str_('Amy'), np.str_('Jim'), np.str_('Rose'), np.str_('Lena'), np.str_('Pak'), np.str_('Sergey'), np.str_('Ridley'), np.str_('Donald'), np.str_('sample.jpg'), np.str_('Brian'), np.str_('Screenshot 2025-07-23 150710'), np.str_('Frank'), np.str_('Carlos'), np.str_('Screenshot 2025-07-23 151125'), np.str_('Talisa'), np.str_('Natalie'), np.str_('Andy'), np.str_('Fernando'), np.str_('Andrew'), np.str_('Suh'), np.str_('Screenshot 2025-07-23 150751'), np.str_('Screenshot 2025-07-23 150651'), np.str_('Jana'), np.str_('Iain'), np.str_('Screenshot 2025-07-23 151539'), np.str_('Bill'), np.str_('Andrea'), np.str_('Screenshot 2025-07-23 150612'), np.str_('Screenshot 2025-07-23 151241'), np.str_('Tyler'), np.str_('Screenshot 2025-07-23 151428'), np.str_('Wang'), np.str_('Kwon'), np.str_('Kaio'), np.str_('Marcos'), np.str_('Elias'), np.str_('Jennifer'), np.str_('Jacques'), np.str_('Hillary'), np.str_('James'), np.str_('Screenshot 2025-07-23 151628'), np.str_('Oscar'), np.str_('Celia'), np.str_('Screenshot 2025-07-23 150908'), np.str_('Screenshot 2025-07-23 151114'), np.str_('Keanu'), np.str_('Screenshot 2025-07-23 151151'), np.str_('Dino'), np.str_('Gordon'), np.str_('Nicolas'), np.str_('Screenshot 2025-07-23 151106'), np.str_('Linda'), np.str_('Screenshot 2025-07-23 151142'), np.str_('Screenshot 2025-07-23 151458'), np.str_('Trudi'), np.str_('Jesse'), np.str_('Griffin'), np.str_('Screenshot 2025-07-23 151730'), np.str_('Hikmat'), np.str_('Sharon'), np.str_('Carolina'), np.str_('Alex'), np.str_('Darlene'), np.str_('Lynne'), np.str_('Screenshot 2025-07-23 151506'), np.str_('Bryan'), np.str_('Screenshot 2025-07-23 151716'), np.str_('Dwayne'), np.str_('Romario'), np.str_('Manuel'), np.str_('Ciro'), np.str_('Roy'), np.str_('Mireya'), np.str_('Sivan'), np.str_('Pio'), np.str_('Jaqueline'), np.str_('Angela'), np.str_('Tom'), np.str_('Rob'), np.str_('Jayne'), np.str_('Screenshot 2025-07-23 150912'), np.str_('Eric'), np.str_('Janice'), np.str_('Screenshot 2025-07-23 151721'), np.str_('Screenshot 2025-07-23 150541'), np.str_('Mladen'), np.str_('Screenshot 2025-07-23 150616'), np.str_('Nancy'), np.str_('Emma'), np.str_('Laurence'), np.str_('Jeremy'), np.str_('Marc'), np.str_('Screenshot 2025-07-23 151543'), np.str_('Terry'), np.str_('Screenshot 2025-07-23 150553'), np.str_('SJ'), np.str_('Lee'), np.str_('Alimzhan'), np.str_('Screenshot 2025-07-23 151224'), np.str_('Randall'), np.str_('George'), np.str_('Sada'), np.str_('Hans'), np.str_('Sereyvuth'), np.str_('Zurab'), np.str_('Zeljko'), np.str_('Chris'), np.str_('Screenshot 2025-07-23 150715'), np.str_('Screenshot 2025-07-23 150629'), np.str_('Takeo'), np.str_('Screenshot 2025-07-23 151724'), np.str_('Patsy'), np.str_('Screenshot 2025-07-23 150722'), np.str_('Edward'), np.str_('Bruce'), np.str_('Grant'), np.str_('Clifford'), np.str_('Teresa'), np.str_('Matt'), np.str_('Kristen'), np.str_('Christine'), np.str_('Henry'), np.str_('Christoph'), np.str_('Dale'), np.str_('Mary'), np.str_('Julio'), np.str_('Wayne'), np.str_('Screenshot 2025-07-23 150538'), np.str_('Screenshot 2025-07-23 151642'), np.str_('Steffi'), np.str_('Screenshot 2025-07-23 150529'), np.str_('Timbul'), np.str_('Kevin'), np.str_('Screenshot 2025-07-23 151609'), np.str_('Kate'), np.str_('Screenshot 2025-07-23 151149'), np.str_('Kostya'), np.str_('Hartmut'), np.str_('Mario'), np.str_('Ascencion'), np.str_('Tim'), np.str_('Colleen'), np.str_('Mel'), np.str_('Screenshot 2025-07-23 151228'), np.str_('Screenshot 2025-07-23 151713'), np.str_('Barry'), np.str_('Sebastian'), np.str_('Madeleine'), np.str_('Tyron'), np.str_('Screenshot 2025-07-23 151449'), np.str_('William'), np.str_('Screenshot 2025-07-23 151718'), np.str_('Lloyd'), np.str_('Screenshot 2025-07-23 151053'), np.str_('Screenshot 2025-07-23 151211'), np.str_('Screenshot 2025-07-23 151607'), np.str_('Jimmy'), np.str_('Mike'), np.str_('Mark'), np.str_('Tommy'), np.str_('Screenshot 2025-07-23 150602'), np.str_('Craig'), np.str_('Screenshot 2025-07-23 151216'), np.str_('Shavon'), np.str_('Screenshot 2025-07-23 151611'), np.str_('Screenshot 2025-07-23 151237'), np.str_('Jerry'), np.str_('Julian'), np.str_('Bing'), np.str_('Naoto'), np.str_('Stella'), np.str_('Steven'), np.str_('Screenshot 2025-07-23 150515'), np.str_('Screenshot 2025-07-23 151635'), np.str_('Norah'), np.str_('Screenshot 2025-07-23 151640'), np.str_('Maureen'), np.str_('Sidney'), np.str_('Screenshot 2025-07-23 151726'), np.str_('Rick'), np.str_('Steny'), np.str_('Billy'), np.str_('Screenshot 2025-07-23 150626'), np.str_('Peter'), np.str_('Screenshot 2025-07-23 150803'), np.str_('Francis'), np.str_('Bob'), np.str_('Screenshot 2025-07-23 151059'), np.str_('Gen'), np.str_('Screenshot 2025-07-23 150845'), np.str_('Chip'), np.str_('Charles'), np.str_('Tiffany'), np.str_('Sheryl'), np.str_('Cristian'), np.str_('Maria'), np.str_('Gerard'), np.str_('Santiago'), np.str_('Osrat'), np.str_('Screenshot 2025-07-23 150633'), np.str_('Gabrielle'), np.str_('Mira'), np.str_('Screenshot 2025-07-23 151048'), np.str_('Steve'), np.str_('Screenshot 2025-07-23 151436'), np.str_('Dick'), np.str_('Erika'), np.str_('Marcella'), np.str_('Wanda'), np.str_('Adam'), np.str_('Ajit'), np.str_('Screenshot 2025-07-23 150512'), np.str_('Screenshot 2025-07-23 150548'), np.str_('Jonathan'), np.str_('Screenshot 2025-07-23 151346'), np.str_('Inocencio'), np.str_('David'), np.str_('Betty'), np.str_('Monica'), np.str_('Javier'), np.str_('Ernie'), np.str_('Shane'), np.str_('Screenshot 2025-07-23 150701'), np.str_('Olivier'), np.str_('Screenshot 2025-07-23 151632'), np.str_('Ted'), np.str_('Ronald'), np.str_('Tara')}\n"
     ]
    },
    {
     "name": "stderr",
     "output_type": "stream",
     "text": [
      "/opt/conda/lib/python3.10/site-packages/sklearn/utils/multiclass.py:213: UserWarning: The number of unique classes is greater than 50% of the number of samples. `y` could represent a regression problem, not a classification problem.\n",
      "  y_type = type_of_target(y, input_name=\"y\")\n"
     ]
    },
    {
     "name": "stdout",
     "output_type": "stream",
     "text": [
      "✅ Đã train & lưu model.\n"
     ]
    }
   ],
   "source": [
    "import os\n",
    "import cv2\n",
    "import numpy as np\n",
    "from insightface.app import FaceAnalysis\n",
    "from sklearn.svm import SVC\n",
    "from sklearn.preprocessing import LabelEncoder\n",
    "import joblib\n",
    "\n",
    "# Load model\n",
    "app = FaceAnalysis(name='buffalo_l', providers=['CPUExecutionProvider'])\n",
    "app.prepare(ctx_id=0)\n",
    "\n",
    "def load_cropface_embeddings(folder):\n",
    "    embeddings = []\n",
    "    labels = []\n",
    "\n",
    "    for filename in os.listdir(folder):\n",
    "        if not filename.lower().endswith(('.jpg', '.png')):\n",
    "            continue\n",
    "\n",
    "        label = filename.split('_')[0]  # Lấy tên trước dấu _\n",
    "        img_path = os.path.join(folder, filename)\n",
    "        img = cv2.imread(img_path)\n",
    "        if img is None:\n",
    "            print(f\"⚠️ Không đọc được ảnh: {img_path}\")\n",
    "            continue\n",
    "\n",
    "        img = cv2.resize(img, (112, 112))  # đảm bảo đúng input size\n",
    "        img = cv2.cvtColor(img, cv2.COLOR_BGR2RGB)\n",
    "\n",
    "        # Trích embedding từ ảnh đã crop\n",
    "        embedding = app.models['recognition'].get_feat(img).flatten()\n",
    "        embeddings.append(embedding)\n",
    "        labels.append(label)\n",
    "\n",
    "    return np.array(embeddings), np.array(labels)\n",
    "\n",
    "# Bước 1: Load ảnh và trích embedding\n",
    "X, y = load_cropface_embeddings(\"facecrop\")\n",
    "print(f\"✅ Số ảnh: {len(X)}, nhãn: {set(y)}\")\n",
    "\n",
    "if len(X) < 2 or len(set(y)) < 2:\n",
    "    raise ValueError(\"⚠️ Không đủ dữ liệu để train SVM. Cần ít nhất 2 ảnh từ 2 nhãn khác nhau.\")\n",
    "\n",
    "# Bước 2: Encode nhãn\n",
    "label_encoder = LabelEncoder()\n",
    "y_encoded = label_encoder.fit_transform(y)\n",
    "\n",
    "# Bước 3: Train SVM\n",
    "clf = SVC(kernel='linear', probability=True)\n",
    "clf.fit(X, y_encoded)\n",
    "\n",
    "# Bước 4: Lưu model\n",
    "joblib.dump(clf, \"svm_face_model.pkl\")\n",
    "joblib.dump(label_encoder, \"label_encoder.pkl\")\n",
    "\n",
    "print(\"✅ Đã train & lưu model.\")\n",
    "\n",
    "# OMG IT WORKEDDDDDDDD AJNWDJNAWDJKNAWJDNKAWKJDAWNJDAWKJNDAWJKDJAKWDANWKJDJKNAWKDNJAWNJK\n"
   ]
  },
  {
   "cell_type": "code",
   "execution_count": 2,
   "id": "244295cb",
   "metadata": {},
   "outputs": [
    {
     "name": "stdout",
     "output_type": "stream",
     "text": [
      "hi\n"
     ]
    }
   ],
   "source": [
    "print(\"hi\")"
   ]
  }
 ],
 "metadata": {
  "kernelspec": {
   "display_name": "base",
   "language": "python",
   "name": "python3"
  },
  "language_info": {
   "codemirror_mode": {
    "name": "ipython",
    "version": 3
   },
   "file_extension": ".py",
   "mimetype": "text/x-python",
   "name": "python",
   "nbconvert_exporter": "python",
   "pygments_lexer": "ipython3",
   "version": "3.10.14"
  }
 },
 "nbformat": 4,
 "nbformat_minor": 5
}
