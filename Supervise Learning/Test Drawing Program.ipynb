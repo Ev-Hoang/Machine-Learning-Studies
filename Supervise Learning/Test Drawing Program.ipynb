{
 "cells": [
  {
   "cell_type": "markdown",
   "id": "96e74bb9",
   "metadata": {},
   "source": [
    "# Drawing numbers and predict using MNIST CNN Model trained in CNN.ipynb"
   ]
  },
  {
   "cell_type": "code",
   "execution_count": 16,
   "id": "0cd71b99",
   "metadata": {},
   "outputs": [
    {
     "name": "stdout",
     "output_type": "stream",
     "text": [
      "* Running on local URL:  http://0.0.0.0:7864\n",
      "* Running on public URL: https://70ce52a23bb05a51f4.gradio.live\n",
      "\n",
      "This share link expires in 1 week. For free permanent hosting and GPU upgrades, run `gradio deploy` from the terminal in the working directory to deploy to Hugging Face Spaces (https://huggingface.co/spaces)\n"
     ]
    },
    {
     "data": {
      "text/html": [
       "<div><iframe src=\"https://70ce52a23bb05a51f4.gradio.live\" width=\"100%\" height=\"500\" allow=\"autoplay; camera; microphone; clipboard-read; clipboard-write;\" frameborder=\"0\" allowfullscreen></iframe></div>"
      ],
      "text/plain": [
       "<IPython.core.display.HTML object>"
      ]
     },
     "metadata": {},
     "output_type": "display_data"
    },
    {
     "data": {
      "text/plain": []
     },
     "execution_count": 16,
     "metadata": {},
     "output_type": "execute_result"
    },
    {
     "name": "stdout",
     "output_type": "stream",
     "text": [
      "1/1 [==============================] - 1s 803ms/step\n",
      "1/1 [==============================] - 0s 75ms/step\n",
      "1/1 [==============================] - 0s 34ms/step\n",
      "1/1 [==============================] - 0s 53ms/step\n",
      "1/1 [==============================] - 0s 38ms/step\n",
      "1/1 [==============================] - 0s 53ms/step\n",
      "1/1 [==============================] - 0s 45ms/step\n",
      "1/1 [==============================] - 0s 39ms/step\n",
      "1/1 [==============================] - 0s 48ms/step\n",
      "1/1 [==============================] - 0s 36ms/step\n",
      "1/1 [==============================] - 0s 33ms/step\n",
      "1/1 [==============================] - 0s 33ms/step\n",
      "1/1 [==============================] - 0s 19ms/step\n",
      "1/1 [==============================] - 0s 18ms/step\n",
      "1/1 [==============================] - 0s 18ms/step\n",
      "1/1 [==============================] - 0s 19ms/step\n",
      "1/1 [==============================] - 0s 19ms/step\n",
      "1/1 [==============================] - 0s 19ms/step\n",
      "1/1 [==============================] - 0s 18ms/step\n",
      "1/1 [==============================] - 0s 18ms/step\n",
      "1/1 [==============================] - 0s 19ms/step\n",
      "1/1 [==============================] - 0s 19ms/step\n",
      "1/1 [==============================] - 0s 22ms/step\n",
      "1/1 [==============================] - 0s 18ms/step\n"
     ]
    }
   ],
   "source": [
    "import gradio as gr\n",
    "import numpy as np\n",
    "from tensorflow.keras.models import load_model\n",
    "from PIL import Image\n",
    "\n",
    "# Load model\n",
    "model = load_model(\"mnist_cnn_model.h5\")\n",
    "\n",
    "def predict_digit(image):\n",
    "    if image is None:\n",
    "        return \"No image uploaded.\"\n",
    "    \n",
    "    image = Image.fromarray(image).convert(\"L\")  # convert to grayscale\n",
    "    image = image.resize((28, 28))\n",
    "    image = np.array(image) / 255.0\n",
    "    image = image.reshape(1, 28, 28, 1)\n",
    "\n",
    "    prediction = model.predict(image)[0]\n",
    "    predicted_digit = np.argmax(prediction)\n",
    "    confidence = prediction[predicted_digit]\n",
    "    return f\"Predicted: {predicted_digit} (confidence: {confidence:.2f})\"\n",
    "\n",
    "# Correct usage for Gradio v5.38.0\n",
    "interface = gr.Interface(\n",
    "    fn=predict_digit,\n",
    "    inputs=gr.Image(label=\"Upload ảnh vẽ số (PNG/JPG)\", image_mode=\"L\", sources=[\"upload\", \"webcam\"]),\n",
    "    outputs=\"text\",\n",
    "    title=\"MNIST Digit Classifier\",\n",
    "    description=\"Tải ảnh chữ số viết tay (0–9) từ máy tính hoặc webcam.\"\n",
    ")\n",
    "\n",
    "interface.launch(server_name=\"0.0.0.0\", server_port=7864, share=True)\n"
   ]
  },
  {
   "cell_type": "code",
   "execution_count": null,
   "id": "419607b2",
   "metadata": {},
   "outputs": [],
   "source": []
  }
 ],
 "metadata": {
  "kernelspec": {
   "display_name": "Python 3 (ipykernel)",
   "language": "python",
   "name": "python3"
  },
  "language_info": {
   "codemirror_mode": {
    "name": "ipython",
    "version": 3
   },
   "file_extension": ".py",
   "mimetype": "text/x-python",
   "name": "python",
   "nbconvert_exporter": "python",
   "pygments_lexer": "ipython3",
   "version": "3.10.12"
  }
 },
 "nbformat": 4,
 "nbformat_minor": 5
}
