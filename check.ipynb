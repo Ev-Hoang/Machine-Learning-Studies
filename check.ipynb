{
 "cells": [
  {
   "cell_type": "code",
   "execution_count": 1,
   "id": "b3ec36c6",
   "metadata": {},
   "outputs": [
    {
     "name": "stderr",
     "output_type": "stream",
     "text": [
      "2025-07-25 04:21:08.855516: I tensorflow/core/util/port.cc:153] oneDNN custom operations are on. You may see slightly different numerical results due to floating-point round-off errors from different computation orders. To turn them off, set the environment variable `TF_ENABLE_ONEDNN_OPTS=0`.\n",
      "2025-07-25 04:21:08.880889: E external/local_xla/xla/stream_executor/cuda/cuda_fft.cc:467] Unable to register cuFFT factory: Attempting to register factory for plugin cuFFT when one has already been registered\n",
      "WARNING: All log messages before absl::InitializeLog() is called are written to STDERR\n",
      "E0000 00:00:1753417268.903722    3782 cuda_dnn.cc:8579] Unable to register cuDNN factory: Attempting to register factory for plugin cuDNN when one has already been registered\n",
      "E0000 00:00:1753417268.911750    3782 cuda_blas.cc:1407] Unable to register cuBLAS factory: Attempting to register factory for plugin cuBLAS when one has already been registered\n",
      "W0000 00:00:1753417268.932251    3782 computation_placer.cc:177] computation placer already registered. Please check linkage and avoid linking the same target more than once.\n",
      "W0000 00:00:1753417268.932317    3782 computation_placer.cc:177] computation placer already registered. Please check linkage and avoid linking the same target more than once.\n",
      "W0000 00:00:1753417268.932319    3782 computation_placer.cc:177] computation placer already registered. Please check linkage and avoid linking the same target more than once.\n",
      "W0000 00:00:1753417268.932320    3782 computation_placer.cc:177] computation placer already registered. Please check linkage and avoid linking the same target more than once.\n",
      "2025-07-25 04:21:08.938610: I tensorflow/core/platform/cpu_feature_guard.cc:210] This TensorFlow binary is optimized to use available CPU instructions in performance-critical operations.\n",
      "To enable the following instructions: AVX2 AVX512F AVX512_VNNI FMA, in other operations, rebuild TensorFlow with the appropriate compiler flags.\n"
     ]
    },
    {
     "name": "stdout",
     "output_type": "stream",
     "text": [
      "==================================================\n",
      "🔍 Checking PyTorch GPU support...\n",
      "PyTorch CUDA Available: True\n",
      "PyTorch GPU Device: NVIDIA GeForce RTX 3050 Laptop GPU\n",
      "==================================================\n",
      "🔍 Checking TensorFlow GPU support...\n",
      "TensorFlow GPUs Available: 1\n",
      "TensorFlow GPU: /physical_device:GPU:0\n",
      "==================================================\n",
      "📦 NVIDIA-SMI output (if available):\n",
      "Fri Jul 25 04:21:12 2025       \n",
      "+-----------------------------------------------------------------------------------------+\n",
      "| NVIDIA-SMI 575.64.01              Driver Version: 576.80         CUDA Version: 12.9     |\n",
      "|-----------------------------------------+------------------------+----------------------+\n",
      "| GPU  Name                 Persistence-M | Bus-Id          Disp.A | Volatile Uncorr. ECC |\n",
      "| Fan  Temp   Perf          Pwr:Usage/Cap |           Memory-Usage | GPU-Util  Compute M. |\n",
      "|                                         |                        |               MIG M. |\n",
      "|=========================================+========================+======================|\n",
      "|   0  NVIDIA GeForce RTX 3050 ...    On  |   00000000:01:00.0 Off |                  N/A |\n",
      "| N/A   48C    P5             10W /   64W |     695MiB /   4096MiB |     31%      Default |\n",
      "|                                         |                        |                  N/A |\n",
      "+-----------------------------------------+------------------------+----------------------+\n",
      "                                                                                         \n",
      "+-----------------------------------------------------------------------------------------+\n",
      "| Processes:                                                                              |\n",
      "|  GPU   GI   CI              PID   Type   Process name                        GPU Memory |\n",
      "|        ID   ID                                                               Usage      |\n",
      "|=========================================================================================|\n",
      "|  No running processes found                                                             |\n",
      "+-----------------------------------------------------------------------------------------+\n"
     ]
    }
   ],
   "source": [
    "# check_gpu.py\n",
    "\n",
    "import torch\n",
    "import tensorflow as tf\n",
    "import subprocess\n",
    "\n",
    "print(\"=\" * 50)\n",
    "print(\"🔍 Checking PyTorch GPU support...\")\n",
    "try:\n",
    "    torch_ok = torch.cuda.is_available()\n",
    "    torch_name = torch.cuda.get_device_name(0) if torch_ok else \"No GPU Found\"\n",
    "    print(f\"PyTorch CUDA Available: {torch_ok}\")\n",
    "    print(f\"PyTorch GPU Device: {torch_name}\")\n",
    "except Exception as e:\n",
    "    print(\"PyTorch check failed:\", e)\n",
    "\n",
    "print(\"=\" * 50)\n",
    "print(\"🔍 Checking TensorFlow GPU support...\")\n",
    "try:\n",
    "    tf_gpus = tf.config.list_physical_devices('GPU')\n",
    "    print(f\"TensorFlow GPUs Available: {len(tf_gpus)}\")\n",
    "    for gpu in tf_gpus:\n",
    "        print(f\"TensorFlow GPU: {gpu.name}\")\n",
    "except Exception as e:\n",
    "    print(\"TensorFlow check failed:\", e)\n",
    "\n",
    "print(\"=\" * 50)\n",
    "print(\"📦 NVIDIA-SMI output (if available):\")\n",
    "try:\n",
    "    subprocess.run([\"nvidia-smi\"])\n",
    "except Exception as e:\n",
    "    print(\"nvidia-smi not found or failed:\", e)"
   ]
  }
 ],
 "metadata": {
  "kernelspec": {
   "display_name": "Python 3",
   "language": "python",
   "name": "python3"
  },
  "language_info": {
   "codemirror_mode": {
    "name": "ipython",
    "version": 3
   },
   "file_extension": ".py",
   "mimetype": "text/x-python",
   "name": "python",
   "nbconvert_exporter": "python",
   "pygments_lexer": "ipython3",
   "version": "3.10.12"
  }
 },
 "nbformat": 4,
 "nbformat_minor": 5
}
